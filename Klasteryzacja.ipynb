{
 "cells": [
  {
   "cell_type": "code",
   "execution_count": 5,
   "id": "d6eabc33",
   "metadata": {},
   "outputs": [
    {
     "name": "stdout",
     "output_type": "stream",
     "text": [
      "Avg: 1.0784573977762466, centroid: 1.0740487620791523, distance: 0.004408635697094265.\n"
     ]
    },
    {
     "data": {
      "text/plain": [
       "0.24700914905689061"
      ]
     },
     "execution_count": 5,
     "metadata": {},
     "output_type": "execute_result"
    }
   ],
   "source": [
    "import numpy as np\n",
    "from numpy.random import RandomState\n",
    "\n",
    "\n",
    "\n",
    "def sum_of_squares(cluster: list[int]) -> np.float32:\n",
    "    \"\"\"\n",
    "        - Środek klastra to element najbliższy średniej\n",
    "        - Trzeba użyć pętli: przejść po wszystkich elementach\n",
    "            klastra i dodać odległość każdego z elementów od\n",
    "            środka klastra.\n",
    "        - Na koniec trzeba zwrócić wynik.\n",
    "    \"\"\"\n",
    "    avg = np.mean(cluster)\n",
    "    centroid = -100\n",
    "    \n",
    "    for element in cluster:\n",
    "        if np.abs(element - avg) < np.abs(centroid - avg):\n",
    "            centroid = element\n",
    "    \n",
    "    print(f\"Avg: {avg}, centroid: {centroid}, distance: {np.abs(centroid - avg)}.\")\n",
    "    \n",
    "    result = 0\n",
    "    \n",
    "    for element in cluster:\n",
    "        result += (element-centroid)**2\n",
    "    \n",
    "    return result\n",
    "    \n",
    "    \n",
    "def SSE(clusters: list[list[int]]) -> np.float32:\n",
    "    \"\"\"\n",
    "        Suma kwadratów odległości każdego elementu każdego \n",
    "        klastra od środka klastra do którego należy\n",
    "    \"\"\"\n",
    "    result = 0\n",
    "    for cluster in clasters:\n",
    "        result += sum_of_squares(cluster)\n",
    "    return result\n",
    "\n",
    "rnd = RandomState()\n",
    "\n",
    "size = 100\n",
    "cluster = list(rnd.normal(1.0, 0.5, size=size))\n",
    "\n",
    "sum_of_squares(cluster)/100"
   ]
  },
  {
   "cell_type": "code",
   "execution_count": 7,
   "id": "76a96b5f",
   "metadata": {},
   "outputs": [
    {
     "name": "stdout",
     "output_type": "stream",
     "text": [
      "[(0, 10), (1, 11), (2, 12), (3, 13), (4, 14), (5, 15), (6, 16)]\n",
      "18.384776310850235\n",
      "0.8792787028622094\n"
     ]
    }
   ],
   "source": [
    "import numpy as np\n",
    "from numpy.random import RandomState\n",
    "from typing import List, Tuple, Dict  ### wymagane w colabie - w jupyterze wystarczy list z małej litery i bez importu\n",
    "\n",
    "def euclidean(p1, p2):\n",
    "  return np.sqrt((p1[0]-p2[0])**2 + (p1[1]-p2[1])**2)\n",
    "\n",
    "def sum_of_distances_from_cluster(point: List[int], cluster: Tuple[List[int], List[int]]) -> List[float]:\n",
    "  result = 0\n",
    "  xs, ys = cluster\n",
    "  for point2 in zip(xs, ys):        ### uwaga: wpisywać xs i ys, dla cluster nie działa\n",
    "    result += euclidean(point, point2)\n",
    "  return result\n",
    "\n",
    "\n",
    "def a(point: List[int], cluster: Tuple[List[int], List[int]]) -> float:\n",
    "  \"\"\"\n",
    "  point - lista składająca się z dwóch liczb, koordynatora x i y\n",
    "  cluster - para (tuple) zawierająca dwie listy intów, listę x i y\n",
    "  \"\"\"\n",
    "  return sum_of_distances_from_cluster(point, cluster) / len(cluster[0])\n",
    "\n",
    "def b(point: List[int], other_clusters):\n",
    "  distances = [sum_of_distances_from_cluster(point, cluster)/len(cluster[0]) for cluster in other_clusters]\n",
    "  return np.min(distances)\n",
    "\n",
    "def silhouette (point, cluster, other_clusters):\n",
    "  if len(cluster) == 1:\n",
    "    return 0\n",
    "  a_ = a(point, cluster)\n",
    "  b_ = b(point, other_clusters)\n",
    "  return (b_-a_) / max(a_,b_)\n",
    "\n",
    "def global_silhouette(clusters: Dict):\n",
    "  if len(clusters) ==1:\n",
    "    return 0\n",
    "  result = []\n",
    "  for key, cluster in clusters.items():\n",
    "    other_clusters = [c for k, c in clusters.items() if k != key]\n",
    "    xs, ys = cluster\n",
    "    for point in zip(xs, ys):\n",
    "      s = silhouette(point, cluster, other_clusters)\n",
    "      result.append(s)\n",
    "  return np.mean(result)\n",
    "\n",
    "clusters = {\n",
    "    '0':[[0,1,2,3],[0,1,2,3]],\n",
    "    '1':[[10,11,12,13],[10,11,12,13]],\n",
    "    '2':[[-100, -110, -120, -130],[-100, -110, -120, -130]]\n",
    "}\n",
    "\n",
    "\n",
    "xs = [0,1,2,3,4,5,6]\n",
    "ys = [10,11,12,13,14,15,16]\n",
    "\n",
    "print(list(zip(xs, ys)))\n",
    "\n",
    "\n",
    "print(sum_of_distances_from_cluster(point=[2,12], cluster=(xs,ys)))\n",
    "\n",
    "print(global_silhouette(clusters))"
   ]
  },
  {
   "cell_type": "code",
   "execution_count": null,
   "id": "286fce3d",
   "metadata": {},
   "outputs": [],
   "source": []
  }
 ],
 "metadata": {
  "kernelspec": {
   "display_name": "Python 3 (ipykernel)",
   "language": "python",
   "name": "python3"
  },
  "language_info": {
   "codemirror_mode": {
    "name": "ipython",
    "version": 3
   },
   "file_extension": ".py",
   "mimetype": "text/x-python",
   "name": "python",
   "nbconvert_exporter": "python",
   "pygments_lexer": "ipython3",
   "version": "3.10.4"
  }
 },
 "nbformat": 4,
 "nbformat_minor": 5
}
